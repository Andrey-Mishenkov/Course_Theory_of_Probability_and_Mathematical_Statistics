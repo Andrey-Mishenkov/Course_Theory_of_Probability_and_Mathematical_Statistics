{
 "cells": [
  {
   "cell_type": "code",
   "execution_count": 171,
   "metadata": {},
   "outputs": [],
   "source": [
    "import numpy as np\n",
    "from math import factorial"
   ]
  },
  {
   "cell_type": "code",
   "execution_count": 172,
   "metadata": {},
   "outputs": [],
   "source": [
    "def combinations(n, k):\n",
    "    return int(factorial(n) / (factorial(k) * factorial(n - k)))"
   ]
  },
  {
   "cell_type": "markdown",
   "metadata": {},
   "source": [
    "### Задача 1.\n",
    "Даны значения зарплат из выборки выпускников: 100, 80, 75, 77, 89, 33, 45, 25, 65, 17, 30, 24, 57, 55, 70, 75, 65, 84, 90, 150. Посчитать (желательно без использования статистических методов наподобие std, var, mean) среднее арифметическое, среднее квадратичное отклонение, смещенную и несмещенную оценки дисперсий для данной выборки."
   ]
  },
  {
   "cell_type": "code",
   "execution_count": 173,
   "metadata": {},
   "outputs": [],
   "source": [
    "x = np.array( [100, 80, 75, 77, 89, 33, 45, 25, 65, 17, 30, 24, 57, 55, 70, 75, 65, 84, 90, 150])"
   ]
  },
  {
   "cell_type": "code",
   "execution_count": 174,
   "metadata": {},
   "outputs": [
    {
     "name": "stdout",
     "output_type": "stream",
     "text": [
      "Среднее арифметическое = 65.3\n"
     ]
    }
   ],
   "source": [
    "x_size = x.size\n",
    "x_avg = x.sum() / x_size\n",
    "print(f'Среднее арифметическое = {x_avg}')"
   ]
  },
  {
   "cell_type": "code",
   "execution_count": 175,
   "metadata": {},
   "outputs": [
    {
     "name": "stdout",
     "output_type": "stream",
     "text": [
      "Смещенная дисперсия = 950.11\n",
      "Несмещенная дисперсия = 1000.12\n"
     ]
    }
   ],
   "source": [
    "a = np.array([(i - x_avg)**2 for i in x])\n",
    "\n",
    "x_variance_1 = a.sum() / x_size\n",
    "x_variance_2 = a.sum() / (x_size - 1)\n",
    "\n",
    "print(f'Смещенная дисперсия = {round(x_variance_1, 2)}')\n",
    "print(f'Несмещенная дисперсия = {round(x_variance_2, 2)}')"
   ]
  },
  {
   "cell_type": "code",
   "execution_count": 176,
   "metadata": {},
   "outputs": [
    {
     "name": "stdout",
     "output_type": "stream",
     "text": [
      "Среднее квадратичное отклонение = 30.82\n"
     ]
    }
   ],
   "source": [
    "x_std = np.sqrt(x_variance_1)\n",
    "print(f'Среднее квадратичное отклонение = {round(x_std, 2)}')"
   ]
  },
  {
   "cell_type": "markdown",
   "metadata": {},
   "source": [
    "### Задача 2.\n",
    "В первом ящике находится 8 мячей, из которых 5 - белые. Во втором ящике - 12 мячей, из которых 5 белых. Из первого ящика вытаскивают случайным образом два мяча, из второго - 4. Какова вероятность того, что 3 мяча белые?"
   ]
  },
  {
   "cell_type": "code",
   "execution_count": 177,
   "metadata": {},
   "outputs": [],
   "source": [
    "# Возможны три варианта:\n",
    "# 1 вар) 1-й ящик - 2 белых;            2-й ящик - 2 черных\n",
    "# 2 вар) 1-й ящик - 1 белый + 1 черный; 2-й ящик - 1 белый + 3 черных\n",
    "# 3 вар) 1-й ящик - 2 черных;           2-й ящик - 3 белых + 2 черных"
   ]
  },
  {
   "cell_type": "code",
   "execution_count": 178,
   "metadata": {},
   "outputs": [],
   "source": [
    "# 1 вар) 1-й ящик - 2 белых;            2-й ящик - 2 черных\n",
    "p1 = ( combinations(5, 2) / combinations(8, 2) ) * ( combinations(5, 1) / combinations(12, 4) )\n",
    "\n",
    "# 2 вар) 1-й ящик - 1 белый + 1 черный; 2-й ящик - 1 белый + 3 черных\n",
    "p2 = ( combinations(5, 1) / combinations(8, 2) ) * ( combinations(5, 2) / combinations(12, 4) )\n",
    "\n",
    "# 3 вар) 1-й ящик - 2 черных;           2-й ящик - 2 белых + 2 черных\n",
    "p3 = ( combinations(3, 2) / combinations(8, 2) ) * ( combinations(5, 3) / combinations(12, 4) )"
   ]
  },
  {
   "cell_type": "code",
   "execution_count": 179,
   "metadata": {},
   "outputs": [
    {
     "name": "stdout",
     "output_type": "stream",
     "text": [
      "p1 = 0.003608; p2 = 0.003608; p3 = 0.002165\n",
      "Вероятность трех белых мячей P = p1 + p2 + p3 = 0.00938\n"
     ]
    }
   ],
   "source": [
    "p = p1 + p2 + p3\n",
    "\n",
    "print(f'p1 = {round(p1, 6)}; p2 = {round(p2, 6)}; p3 = {round(p3, 6)}')\n",
    "print(f'Вероятность трех белых мячей P = p1 + p2 + p3 = {round(p, 6)}')"
   ]
  },
  {
   "cell_type": "markdown",
   "metadata": {},
   "source": [
    "### Задача 3.\n",
    "На соревновании по биатлону один из трех спортсменов стреляет и попадает в мишень. Вероятность попадания для первого спортсмена равна 0.9, для второго — 0.8, для третьего — 0.6. Найти вероятность того, что выстрел произведен: a). первым спортсменом б). вторым спортсменом в). третьим спортсменом."
   ]
  },
  {
   "cell_type": "code",
   "execution_count": 187,
   "metadata": {},
   "outputs": [],
   "source": [
    "# Событие A - попадание в мишень\n",
    "\n",
    "# вероятности того, что стреляли спортсмены - события Bi:\n",
    "p_B1 = p_B2 = p_B3 = 1/3\n",
    "\n",
    "# вероятности попадания спортсменов - события A|Bi:\n",
    "p_AB1 = 0.9\n",
    "p_AB2 = 0.8\n",
    "p_AB3 = 0.6"
   ]
  },
  {
   "cell_type": "markdown",
   "metadata": {},
   "source": [
    "Вероятность выстрела каждого спортсмена определяю по формуле Байеса\n",
    "$$P(B\\:|\\:A) = \\frac{P(B) \\cdot P(A\\:|\\:B)}{P(A)}$$"
   ]
  },
  {
   "cell_type": "markdown",
   "metadata": {},
   "source": [
    "Считаю вероятность события A; Полную вероятность P(A)\n",
    "$$P(A) = P(B_1) \\cdot P(A\\:|\\:B_1) + P(B_2) \\cdot P(A\\:|\\:B_2) \\; + ... + \\; P(B_n) \\cdot P(A\\:|\\:B_n)$$"
   ]
  },
  {
   "cell_type": "code",
   "execution_count": 188,
   "metadata": {},
   "outputs": [
    {
     "name": "stdout",
     "output_type": "stream",
     "text": [
      "Полная вероятность P(A) = 0.766667\n"
     ]
    }
   ],
   "source": [
    "p_A = (p_B1 * p_AB1) + (p_B2 * p_AB2) + (p_B3 * p_AB3)\n",
    "\n",
    "print(f'Полная вероятность P(A) = {round(p_A, 6)}')"
   ]
  },
  {
   "cell_type": "code",
   "execution_count": 161,
   "metadata": {},
   "outputs": [
    {
     "name": "stdout",
     "output_type": "stream",
     "text": [
      "Вероятности выстрела спортсменов:\n",
      "\t1-й спортсмен P1 = 0.3913\n",
      "\t2-й спортсмен P2 = 0.3478\n",
      "\t3-й спортсмен P3 = 0.2609\n"
     ]
    }
   ],
   "source": [
    "# Считаю вероятности выстрела спортсменов\n",
    "p1 = p_B1 * p_AB1 / p_A\n",
    "p2 = p_B2 * p_AB2 / p_A\n",
    "p3 = p_B3 * p_AB3 / p_A\n",
    "\n",
    "print(f'Вероятности выстрела спортсменов:')\n",
    "print(f'\\t1-й спортсмен P1 = {round(p1, 4)}')\n",
    "print(f'\\t2-й спортсмен P2 = {round(p2, 4)}')\n",
    "print(f'\\t3-й спортсмен P3 = {round(p3, 4)}')"
   ]
  },
  {
   "cell_type": "markdown",
   "metadata": {},
   "source": [
    "### Задача 4.\n",
    "В университет на факультеты A и B поступило равное количество студентов, а на факультет C студентов поступило столько же, сколько на A и B вместе. Вероятность того, что студент факультета A сдаст первую сессию, равна 0.8. Для студента факультета B эта вероятность равна 0.7, а для студента факультета C - 0.9. Студент сдал первую сессию. Какова вероятность, что он учится: a). на факультете A б). на факультете B в). на факультете C?"
   ]
  },
  {
   "cell_type": "code",
   "execution_count": 162,
   "metadata": {},
   "outputs": [],
   "source": [
    "# Событие A - сдача сессии студентом\n",
    "\n",
    "# вероятности того, что это студенты факультетов - события Bi:\n",
    "p_B1 = p_B2 = 0.25\n",
    "p_B3 = 0.5\n",
    "\n",
    "# вероятности сдачи сессии студентами факультетов - события A|Bi:\n",
    "p_AB1 = 0.8\n",
    "p_AB2 = 0.7\n",
    "p_AB3 = 0.9"
   ]
  },
  {
   "cell_type": "code",
   "execution_count": 163,
   "metadata": {},
   "outputs": [
    {
     "name": "stdout",
     "output_type": "stream",
     "text": [
      "Полная вероятность P(A) = 0.825\n"
     ]
    }
   ],
   "source": [
    "# Считаю вероятность, что студен учится на i-м факультете по формуле Байеса\n",
    "p_A = (p_B1 * p_AB1) + (p_B2 * p_AB2) + (p_B3 * p_AB3)\n",
    "\n",
    "print(f'Полная вероятность P(A) = {round(p_A, 6)}')"
   ]
  },
  {
   "cell_type": "code",
   "execution_count": 180,
   "metadata": {},
   "outputs": [
    {
     "name": "stdout",
     "output_type": "stream",
     "text": [
      "Вероятности учебы студента на факультетах:\n",
      "\tФакультет A P1 = 0.2424\n",
      "\tФакультет B P2 = 0.2121\n",
      "\tФакультет C P3 = 0.5455\n"
     ]
    }
   ],
   "source": [
    "# Считаю вероятности учебы стадента на факультетах\n",
    "p1 = p_B1 * p_AB1 / p_A\n",
    "p2 = p_B2 * p_AB2 / p_A\n",
    "p3 = p_B3 * p_AB3 / p_A\n",
    "\n",
    "print(f'Вероятности учебы студента на факультетах:')\n",
    "print(f'\\tФакультет A P1 = {round(p1, 4)}')\n",
    "print(f'\\tФакультет B P2 = {round(p2, 4)}')\n",
    "print(f'\\tФакультет C P3 = {round(p3, 4)}')"
   ]
  },
  {
   "cell_type": "markdown",
   "metadata": {},
   "source": [
    "### Задача 5.\n",
    "Устройство состоит из трех деталей. Для первой детали вероятность выйти из строя в первый месяц равна 0.1, для второй - 0.2, для третьей - 0.25. Какова вероятность того, что в первый месяц выйдут из строя: а). все детали б). только две детали в). хотя бы одна деталь г). от одной до двух деталей?"
   ]
  },
  {
   "cell_type": "code",
   "execution_count": 181,
   "metadata": {},
   "outputs": [],
   "source": [
    "# вероятности выхода из строя деталей\n",
    "p1 = 0.1\n",
    "p2 = 0.2\n",
    "p3 = 0.25"
   ]
  },
  {
   "cell_type": "markdown",
   "metadata": {},
   "source": [
    "#### а) Выход из строя всех деталей"
   ]
  },
  {
   "cell_type": "code",
   "execution_count": 182,
   "metadata": {},
   "outputs": [
    {
     "name": "stdout",
     "output_type": "stream",
     "text": [
      "а) Вероятность выхода из строя всех деталей P = p1 * p2 * p3 = 0.005\n"
     ]
    }
   ],
   "source": [
    "p_a = p1 * p2 * p3\n",
    "print(f'а) Вероятность выхода из строя всех деталей P = p1 * p2 * p3 = {round(p_a, 6)}')"
   ]
  },
  {
   "cell_type": "markdown",
   "metadata": {},
   "source": [
    "#### б) Выход из строя только двух деталей"
   ]
  },
  {
   "cell_type": "code",
   "execution_count": 183,
   "metadata": {},
   "outputs": [],
   "source": [
    "# Возможны 3 варианта выхода из строя деталей:\n",
    "# 1) 1-я + 2-я детали\n",
    "# 2) 1-я + 3-я детали\n",
    "# 3) 2-я + 3-я детали"
   ]
  },
  {
   "cell_type": "code",
   "execution_count": 184,
   "metadata": {},
   "outputs": [
    {
     "name": "stdout",
     "output_type": "stream",
     "text": [
      "p1 = 0.02; p2 = 0.025; p3 = 0.05\n",
      "б) Вероятность выхода из строя только двух деталей P = p1 + p2 + p3 = 0.095\n"
     ]
    }
   ],
   "source": [
    "p_b_1 = p1 * p2\n",
    "p_b_2 = p1 * p3\n",
    "p_b_3 = p2 * p3\n",
    "p_b = p_b_1 + p_b_2 + p_b_3\n",
    "\n",
    "print(f'p1 = {round(p_b_1, 6)}; p2 = {round(p_b_2, 6)}; p3 = {round(p_b_3, 6)}')\n",
    "print(f'б) Вероятность выхода из строя только двух деталей P = p1 + p2 + p3 = {round(p_b, 6)}')"
   ]
  },
  {
   "cell_type": "markdown",
   "metadata": {},
   "source": [
    "#### в) Выход из строя хотя бы одной детали"
   ]
  },
  {
   "cell_type": "code",
   "execution_count": 185,
   "metadata": {},
   "outputs": [
    {
     "name": "stdout",
     "output_type": "stream",
     "text": [
      "Вероятность, что ни одна деталь не выйдет из строя P_inverse = 0.9 * 0.8 * 0.75 = 0.54\n",
      "в) Вероятность выхода из строя хотя бы одной детали P = 1 - 0.54 = 0.46\n"
     ]
    }
   ],
   "source": [
    "# Считаю, от обратного, что ни одна деталь не выйдет из строя\n",
    "p1_inv = 1 - p1\n",
    "p2_inv = 1 - p2\n",
    "p3_inv = 1 - p3\n",
    "\n",
    "p_inv = p1_inv * p2_inv * p3_inv\n",
    "p_c = 1 - p_inv\n",
    "\n",
    "print(f'Вероятность, что ни одна деталь не выйдет из строя \\\n",
    "P_inverse = {round(p1_inv, 6)} * {round(p2_inv, 6)} * {round(p3_inv, 6)} = {round(p_inv, 6)}')\n",
    "print(f'в) Вероятность выхода из строя хотя бы одной детали P = 1 - {round(p_inv, 6)} = {round(p_c, 6)}')"
   ]
  },
  {
   "cell_type": "markdown",
   "metadata": {},
   "source": [
    "#### г) Выход из строя от одной до двух деталей"
   ]
  },
  {
   "cell_type": "code",
   "execution_count": 186,
   "metadata": {},
   "outputs": [
    {
     "name": "stdout",
     "output_type": "stream",
     "text": [
      "г) Вероятность выхода из строя от одной до двух деталей P = 1 - 0.54 - 0.005 = 0.535\n"
     ]
    }
   ],
   "source": [
    "# \"от одной до двух\" т.е. одна или две детали\n",
    "# Т.о. исключаю варианты, когда все детали будут работать и когда три детали выйдут из строя\n",
    "# P = 1 - P0 - P3\n",
    "\n",
    "p_d = p_inv - p_a\n",
    "\n",
    "print(f'г) Вероятность выхода из строя от одной до двух деталей P = 1 - {round(p_inv, 6)} - {round(p_a, 6)} = {round(p_d, 6)}')"
   ]
  }
 ],
 "metadata": {
  "kernelspec": {
   "display_name": "Python 3",
   "language": "python",
   "name": "python3"
  },
  "language_info": {
   "codemirror_mode": {
    "name": "ipython",
    "version": 3
   },
   "file_extension": ".py",
   "mimetype": "text/x-python",
   "name": "python",
   "nbconvert_exporter": "python",
   "pygments_lexer": "ipython3",
   "version": "3.7.6"
  }
 },
 "nbformat": 4,
 "nbformat_minor": 4
}
