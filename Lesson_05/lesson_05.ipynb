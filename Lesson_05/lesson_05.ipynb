{
 "cells": [
  {
   "cell_type": "code",
   "execution_count": 103,
   "metadata": {},
   "outputs": [],
   "source": [
    "import numpy as np\n",
    "from scipy.stats import norm, t"
   ]
  },
  {
   "cell_type": "markdown",
   "metadata": {},
   "source": [
    "### Задача 1.\n",
    "Известно, что генеральная совокупность распределена нормально со средним квадратическим отклонением, равным 16. Найти доверительный интервал для оценки математического ожидания a с надежностью 0.95, если выборочная средняя M = 80, а объем выборки n = 256."
   ]
  },
  {
   "cell_type": "markdown",
   "metadata": {},
   "source": [
    "СКО задано => решаю через Z-критерий по формуле:\n",
    "$$T_{1,2} = \\overline{X} \\pm Z_{\\frac{\\alpha}{2}} \\cdot \\frac{\\sigma}{\\sqrt{n}} $$"
   ]
  },
  {
   "cell_type": "code",
   "execution_count": 104,
   "metadata": {},
   "outputs": [
    {
     "name": "stdout",
     "output_type": "stream",
     "text": [
      "Доверительный интервал = [78.040036, 81.959964]\n"
     ]
    }
   ],
   "source": [
    "sko   = 16\n",
    "M     = 80\n",
    "n     = 256\n",
    "alpha = 1 - 0.95\n",
    "\n",
    "Z = norm.ppf( alpha / 2)\n",
    "# print(f'Z = {round(Z, 6)}')\n",
    "\n",
    "T1 = M + Z * sko / np.sqrt(n)\n",
    "T2 = M - Z * sko / np.sqrt(n)\n",
    "\n",
    "print(f'Доверительный интервал = [{round(T1, 6)}, {round(T2, 6)}]')"
   ]
  },
  {
   "cell_type": "markdown",
   "metadata": {},
   "source": [
    "### Задача 2.\n",
    "В результате 10 независимых измерений некоторой величины X, выполненных с одинаковой точностью, получены опытные данные: 6.9, 6.1, 6.2, 6.8, 7.5, 6.3, 6.4, 6.9, 6.7, 6.1 Предполагая, что результаты измерений подчинены нормальному закону распределения вероятностей, оценить истинное значение величины X при помощи доверительного интервала, покрывающего это значение с доверительной вероятностью 0,95."
   ]
  },
  {
   "cell_type": "markdown",
   "metadata": {},
   "source": [
    "СКО не задано => решаю через t-критерий Стьюдента по формуле:\n",
    "$$T_{1,2} = \\overline{X} \\pm t_{\\frac{\\alpha}{2}} \\cdot \\frac{\\sigma}{\\sqrt{n}} $$"
   ]
  },
  {
   "cell_type": "code",
   "execution_count": 105,
   "metadata": {},
   "outputs": [
    {
     "name": "stdout",
     "output_type": "stream",
     "text": [
      "[6.9 6.1 6.2 6.8 7.5 6.3 6.4 6.9 6.7 6.1]\n",
      "\n",
      "M     (средняя по выборке)        = 6.59\n",
      "СКО   (для несмещенной дисперсии) = 0.450802\n",
      "Aplha (уровень значимости)        = 0.05\n",
      "v     (число степеней свободы)    = 9\n",
      "t     (статистический критерий)   = -2.262157\n",
      "\n",
      "Доверительный интервал = [6.267516, 6.912484]\n"
     ]
    }
   ],
   "source": [
    "x = np.array([6.9, 6.1, 6.2, 6.8, 7.5, 6.3, 6.4, 6.9, 6.7, 6.1])\n",
    "print(x)\n",
    "print()\n",
    "\n",
    "M = x.mean()\n",
    "print(f'M     (средняя по выборке)        = {round(M, 6)}')\n",
    "\n",
    "sko = np.sqrt(x.var(ddof = 1))\n",
    "print(f'СКО   (для несмещенной дисперсии) = {round(sko, 6)}')\n",
    "\n",
    "alpha = 1 - 0.95 \n",
    "print(f'Aplha (уровень значимости)        = {round(alpha, 6)}')\n",
    "\n",
    "n = 10\n",
    "v = n - 1\n",
    "print(f'v     (число степеней свободы)    = {v}')\n",
    "\n",
    "t_crit = t.ppf(alpha/2, 9)\n",
    "print(f't     (статистический критерий)   = {round(t_crit, 6)}')\n",
    "print()\n",
    "\n",
    "T1 = M + t_crit * sko / np.sqrt(n)\n",
    "T2 = M - t_crit * sko / np.sqrt(n)\n",
    "\n",
    "print(f'Доверительный интервал = [{round(T1, 6)}, {round(T2, 6)}]')"
   ]
  },
  {
   "cell_type": "markdown",
   "metadata": {},
   "source": [
    "### Задача 3.\n",
    "3. Утверждается, что шарики для подшипников, изготовленные автоматическим станком, имеют средний диаметр 17 мм.\n",
    "Используя односторонний критерий с α=0,05, проверить эту гипотезу, если в выборке из n=100 шариков средний диаметр\n",
    "оказался равным 17.5 мм, а дисперсия известна и равна 4 кв.мм"
   ]
  },
  {
   "cell_type": "code",
   "execution_count": 106,
   "metadata": {},
   "outputs": [],
   "source": [
    "mu0 = 17\n",
    "alpha = 0.05\n",
    "n = 100\n",
    "D = 4\n",
    "mu = 17.5"
   ]
  },
  {
   "cell_type": "markdown",
   "metadata": {},
   "source": [
    "* Гипотеза H0: mu = mu0\n",
    "* Гипотеза H1: mu > mu0   "
   ]
  },
  {
   "cell_type": "code",
   "execution_count": 107,
   "metadata": {},
   "outputs": [
    {
     "name": "stdout",
     "output_type": "stream",
     "text": [
      "Сигма выборки             = 0.2\n",
      "\n",
      "Z-критерий                = 1.644854\n",
      "Число сигм между mu и mu0 = 2.5\n"
     ]
    }
   ],
   "source": [
    "# Найдем Сигму для выборочной совокупности\n",
    "sigma = np.sqrt(D) / np.sqrt(n)\n",
    "print(f'Сигма выборки             = {sigma}')\n",
    "print()\n",
    "\n",
    "Z = norm.ppf(1 - alpha)\n",
    "print(f'Z-критерий                = {round(Z, 6)}')\n",
    "\n",
    "# Найдем число сигм между mu и mu0\n",
    "count_sigm = (mu - mu0) / sigma\n",
    "print(f'Число сигм между mu и mu0 = {count_sigm}')"
   ]
  },
  {
   "cell_type": "markdown",
   "metadata": {},
   "source": [
    "#### Вывод\n",
    "* mu находится на расстоянии 2.5 сигмы от mu0 и лежит правее критерия значимости alpha \n",
    "* Гипотеза H0 отклоняется и верна гипотеза H1"
   ]
  },
  {
   "cell_type": "markdown",
   "metadata": {},
   "source": [
    "### Задача 4.\n",
    "Продавец утверждает, что средний вес пачки печенья составляет 200 г. Из партии извлечена выборка из 10 пачек. Вес каждой пачки составляет: 202, 203, 199, 197, 195, 201, 200, 204, 194, 190. Известно, что их веса распределены нормально. Верно ли утверждение продавца, если учитывать, что доверительная вероятность равна 99%?"
   ]
  },
  {
   "cell_type": "markdown",
   "metadata": {},
   "source": [
    "* Гипотеза H0: mu = mu0\n",
    "* Гипотеза H1: mu <> mu0   "
   ]
  },
  {
   "cell_type": "code",
   "execution_count": 108,
   "metadata": {},
   "outputs": [
    {
     "name": "stdout",
     "output_type": "stream",
     "text": [
      "\n",
      "mu     (средняя по выборке)        = 198.5\n",
      "СКО   (для несмещенной дисперсии) = 4.453463\n",
      "Сигма выборки                     = 0.445346\n",
      "Aplha (уровень значимости)        = 0.01\n",
      "v     (число степеней свободы)    = 9\n",
      "\n",
      "t     (статистический критерий)   = -3.249836\n",
      "Число сигм между mu и mu0         = 3.368165\n"
     ]
    }
   ],
   "source": [
    "mu0 = 200\n",
    "x = np.array([202, 203, 199, 197, 195, 201, 200, 204, 194, 190])\n",
    "print()\n",
    "\n",
    "mu = x.mean()\n",
    "print(f'mu     (средняя по выборке)        = {round(mu, 6)}')\n",
    "\n",
    "sko = np.sqrt(x.var(ddof = 1))\n",
    "print(f'СКО   (для несмещенной дисперсии) = {round(sko, 6)}')\n",
    "\n",
    "sigma = sko / np.sqrt(n)\n",
    "print(f'Сигма выборки                     = {round(sigma, 6)}')\n",
    "\n",
    "alpha = 1 - 0.99\n",
    "print(f'Aplha (уровень значимости)        = {round(alpha, 6)}')\n",
    "\n",
    "n = 10\n",
    "v = n - 1\n",
    "print(f'v     (число степеней свободы)    = {v}')\n",
    "print()\n",
    "\n",
    "t_crit = t.ppf(alpha/2, 9)\n",
    "print(f't     (статистический критерий)   = {round(t_crit, 6)}')\n",
    "\n",
    "# Найдем число сигм между mu и mu0\n",
    "count_sigm = (mu0 - mu) / sigma\n",
    "print(f'Число сигм между mu и mu0         = {round(count_sigm, 6)}')"
   ]
  },
  {
   "cell_type": "markdown",
   "metadata": {},
   "source": [
    "#### Вывод\n",
    "* mu находится на расстоянии 1.065 сигмы от mu0 и лежит внутри интервала значимости alpha\n",
    "* Гипотеза H0 верна и гипотеза H1 отклоняется"
   ]
  },
  {
   "cell_type": "code",
   "execution_count": null,
   "metadata": {},
   "outputs": [],
   "source": []
  }
 ],
 "metadata": {
  "kernelspec": {
   "display_name": "Python 3",
   "language": "python",
   "name": "python3"
  },
  "language_info": {
   "codemirror_mode": {
    "name": "ipython",
    "version": 3
   },
   "file_extension": ".py",
   "mimetype": "text/x-python",
   "name": "python",
   "nbconvert_exporter": "python",
   "pygments_lexer": "ipython3",
   "version": "3.7.6"
  }
 },
 "nbformat": 4,
 "nbformat_minor": 4
}
