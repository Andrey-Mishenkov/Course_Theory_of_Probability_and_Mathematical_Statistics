{
 "cells": [
  {
   "cell_type": "code",
   "execution_count": 66,
   "metadata": {},
   "outputs": [],
   "source": [
    "import numpy as np\n",
    "from scipy.stats import norm, t\n",
    "import pandas as pd"
   ]
  },
  {
   "cell_type": "markdown",
   "metadata": {},
   "source": [
    "### Задача 1.\n",
    "1) Даны значения величины заработной платы заемщиков банка (zp) и значения их поведенческого кредитного скоринга (ks):  \n",
    "zp = [35, 45, 190, 200, 40, 70, 54, 150, 120, 110],  \n",
    "ks = [401, 574, 874, 919, 459, 739, 653, 902, 746, 832].  \n",
    "Найдите ковариацию этих двух величин с помощью элементарных действий, а затем с помощью функции cov из numpy  \n",
    "Полученные значения должны быть равны.  \n",
    "Найдите коэффициент корреляции Пирсона с помощью ковариации и среднеквадратичных отклонений двух признаков,  \n",
    "а затем с использованием функций из библиотек numpy и pandas.  "
   ]
  },
  {
   "cell_type": "code",
   "execution_count": 67,
   "metadata": {},
   "outputs": [
    {
     "name": "stdout",
     "output_type": "stream",
     "text": [
      "cov_1 = 9157.84; (через статистические функции)\n",
      "cov_2 = 9157.84; (через функцию numpy)\n"
     ]
    }
   ],
   "source": [
    "zp = np.array([35, 45, 190, 200, 40, 70, 54, 150, 120, 110])\n",
    "ks = np.array([401, 574, 874, 919, 459, 739, 653, 902, 746, 832])\n",
    "\n",
    "cov_1 = np.mean(zp * ks) - np.mean(zp)* np.mean(ks)\n",
    "print(f'cov_1 = {round(cov_1, 6)}; (через статистические функции)')\n",
    "\n",
    "cov_2 = np.cov(zp, ks, ddof = 0)[0, 1]\n",
    "print(f'cov_2 = {round(cov_2, 6)}; (через функцию numpy)')"
   ]
  },
  {
   "cell_type": "code",
   "execution_count": 68,
   "metadata": {},
   "outputs": [
    {
     "name": "stdout",
     "output_type": "stream",
     "text": [
      "coef_corr_1 = 0.88749; (через Ковариацию и СКО)\n",
      "coef_corr_2 = 0.88749; (через функцию numpy)\n"
     ]
    }
   ],
   "source": [
    "std_zp = np.std(zp, ddof = 0)\n",
    "std_ks = np.std(ks, ddof = 0)\n",
    "\n",
    "coef_corr_1 = cov_1 / (std_zp * std_ks)\n",
    "print(f'coef_corr_1 = {round(coef_corr_1, 6)}; (через Ковариацию и СКО)')\n",
    "\n",
    "coef_corr_2 = np.corrcoef(zp, ks)[0, 1]\n",
    "print(f'coef_corr_2 = {round(coef_corr_2, 6)}; (через функцию numpy)')"
   ]
  },
  {
   "cell_type": "code",
   "execution_count": 69,
   "metadata": {},
   "outputs": [
    {
     "name": "stdout",
     "output_type": "stream",
     "text": [
      "coef_corr_3 = 0.88749; (через функцию pandas)\n"
     ]
    }
   ],
   "source": [
    "df = pd.DataFrame( { 'zp': zp, 'ks': ks}, columns = ['zp', 'ks'])\n",
    "\n",
    "coef_corr_3 = df.corr(method='pearson')\n",
    "coef_corr_3 = coef_corr_3.loc['zp', 'ks']\n",
    "print(f'coef_corr_3 = {round(coef_corr_3, 6)}; (через функцию pandas)')"
   ]
  },
  {
   "cell_type": "markdown",
   "metadata": {},
   "source": [
    "### Задача 2.\n",
    "Измерены значения IQ выборки студентов,  \n",
    "обучающихся в местных технических вузах:  \n",
    "131, 125, 115, 122, 131, 115, 107, 99, 125, 111.  \n",
    "Известно, что в генеральной совокупности IQ распределен нормально.  \n",
    "Найдите доверительный интервал для математического ожидания с надежностью 0.95."
   ]
  },
  {
   "cell_type": "code",
   "execution_count": 73,
   "metadata": {},
   "outputs": [
    {
     "name": "stdout",
     "output_type": "stream",
     "text": [
      "[131 125 115 122 131 115 107  99 125 111]\n",
      "\n",
      "M     (средняя по выборке)        = 118.1\n",
      "СКО   (для несмещенной дисперсии) = 10.545668\n",
      "Aplha (уровень значимости)        = 0.05\n",
      "v     (число степеней свободы)    = 9\n",
      "t     (статистический критерий)   = -2.262157\n",
      "\n",
      "Доверительный интервал = [110.556084, 125.643916]\n"
     ]
    }
   ],
   "source": [
    "x = np.array([131, 125, 115, 122, 131, 115, 107, 99, 125, 111])\n",
    "print(x)\n",
    "print()\n",
    "\n",
    "M = x.mean()\n",
    "print(f'M     (средняя по выборке)        = {round(M, 6)}')\n",
    "\n",
    "sko = np.sqrt(x.var(ddof = 1))\n",
    "print(f'СКО   (для несмещенной дисперсии) = {round(sko, 6)}')\n",
    "\n",
    "alpha = 1 - 0.95 \n",
    "print(f'Aplha (уровень значимости)        = {round(alpha, 6)}')\n",
    "\n",
    "n = x.size\n",
    "v = n - 1\n",
    "print(f'v     (число степеней свободы)    = {v}')\n",
    "\n",
    "t_crit = t.ppf(alpha/2, 9)\n",
    "print(f't     (статистический критерий)   = {round(t_crit, 6)}\\n')\n",
    "\n",
    "\n",
    "T1 = M + t_crit * sko / np.sqrt(n)\n",
    "T2 = M - t_crit * sko / np.sqrt(n)\n",
    "\n",
    "print(f'Доверительный интервал = [{round(T1, 6)}, {round(T2, 6)}]')"
   ]
  },
  {
   "cell_type": "markdown",
   "metadata": {},
   "source": [
    "### Задача 3.\n",
    "Известно, что рост футболистов в сборной распределен нормально  \n",
    "с дисперсией генеральной совокупности, равной 25 кв.см. Объем выборки равен 27,  \n",
    "среднее выборочное составляет 174.2. Найдите доверительный интервал для математического  \n",
    "ожидания с надежностью 0.95."
   ]
  },
  {
   "cell_type": "code",
   "execution_count": 74,
   "metadata": {},
   "outputs": [
    {
     "name": "stdout",
     "output_type": "stream",
     "text": [
      "Доверительный интервал = [172.314024, 176.085976]\n"
     ]
    }
   ],
   "source": [
    "D     = 25\n",
    "sko   = np.sqrt(D)\n",
    "n     = 27\n",
    "M     = 174.2\n",
    "alpha = 1 - 0.95\n",
    "\n",
    "Z = norm.ppf( alpha / 2)\n",
    "# print(f'Z (статистический критерий) = {round(Z, 6)}\\n')\n",
    "\n",
    "T1 = M + Z * sko / np.sqrt(n)\n",
    "T2 = M - Z * sko / np.sqrt(n)\n",
    "\n",
    "print(f'Доверительный интервал = [{round(T1, 6)}, {round(T2, 6)}]')"
   ]
  },
  {
   "cell_type": "code",
   "execution_count": null,
   "metadata": {},
   "outputs": [],
   "source": []
  }
 ],
 "metadata": {
  "kernelspec": {
   "display_name": "Python 3",
   "language": "python",
   "name": "python3"
  },
  "language_info": {
   "codemirror_mode": {
    "name": "ipython",
    "version": 3
   },
   "file_extension": ".py",
   "mimetype": "text/x-python",
   "name": "python",
   "nbconvert_exporter": "python",
   "pygments_lexer": "ipython3",
   "version": "3.7.6"
  }
 },
 "nbformat": 4,
 "nbformat_minor": 4
}
