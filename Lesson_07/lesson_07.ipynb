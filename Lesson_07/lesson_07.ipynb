{
 "cells": [
  {
   "cell_type": "code",
   "execution_count": 54,
   "metadata": {},
   "outputs": [],
   "source": [
    "import numpy as np\n",
    "import random\n",
    "import matplotlib.pyplot as plt\n",
    "%matplotlib inline"
   ]
  },
  {
   "cell_type": "markdown",
   "metadata": {},
   "source": [
    "### Задача 1.\n",
    "Даны значения величины заработной платы заемщиков банка (zp) и значения их поведенческого кредитного скоринга (ks):  \n",
    "zp = [35, 45, 190, 200, 40, 70, 54, 150, 120, 110],  \n",
    "ks = [401, 574, 874, 919, 459, 739, 653, 902, 746, 832].  \n",
    "Используя математические операции, посчитать коэффициенты линейной регрессии,  \n",
    "приняв за X заработную плату (то есть, zp - признак),  \n",
    "а за y - значения скорингового балла (то есть, ks - целевая переменная).  \n",
    "Произвести расчет как с использованием intercept, так и без."
   ]
  },
  {
   "cell_type": "markdown",
   "metadata": {},
   "source": [
    "#### 1. Нахожу коэффициенты B0 и B1 с помощью статистических формул"
   ]
  },
  {
   "cell_type": "code",
   "execution_count": 55,
   "metadata": {},
   "outputs": [],
   "source": [
    "x = np.array([35, 45, 190, 200, 40, 70, 54, 150, 120, 110], dtype=np.float64)\n",
    "y = np.array([401, 574, 874, 919, 459, 739, 653, 902, 746, 832], dtype=np.float64)"
   ]
  },
  {
   "cell_type": "code",
   "execution_count": 56,
   "metadata": {},
   "outputs": [
    {
     "name": "stdout",
     "output_type": "stream",
     "text": [
      "B0 = 444.177357\n",
      "B1 = 2.620539\n",
      "Тогда получем модель вида y = B0 + B1 * x:\n",
      "\t y = 444.177357 + 2.620539 * x\n"
     ]
    }
   ],
   "source": [
    "B1 = (np.mean(x * y) - np.mean(x) * np.mean(y)) / (np.mean(x**2) - np.mean(x) ** 2)\n",
    "B0 = np.mean(y) - B1 * np.mean(x)\n",
    "\n",
    "print('B0 =', round(B0, 6))\n",
    "print('B1 =', round(B1, 6))\n",
    "\n",
    "print(f'Тогда получем модель вида y = B0 + B1 * x:\\n\\t y = {round(B0, 6)} + {round(B1, 6)} * x')"
   ]
  },
  {
   "cell_type": "code",
   "execution_count": 57,
   "metadata": {},
   "outputs": [
    {
     "data": {
      "image/png": "[encoded data removed]",
      "text/plain": [
       "<Figure size 432x288 with 1 Axes>"
      ]
     },
     "metadata": {
      "needs_background": "light"
     },
     "output_type": "display_data"
    }
   ],
   "source": [
    "plt.scatter(x, y)\n",
    "plt.plot(x, B0 + B1 * x)\n",
    "plt.xlabel('x')\n",
    "plt.ylabel('y')\n",
    "plt.show()"
   ]
  },
  {
   "cell_type": "markdown",
   "metadata": {},
   "source": [
    "#### 2. Без intercept;"
   ]
  },
  {
   "cell_type": "code",
   "execution_count": 58,
   "metadata": {},
   "outputs": [
    {
     "name": "stdout",
     "output_type": "stream",
     "text": [
      "B0 = 0\n",
      "B1 = 2.620539\n",
      "Тогда получем модель вида y = B0 + B1 * x:\n",
      "\t y = 444.177357 + 2.620539 * x\n"
     ]
    }
   ],
   "source": [
    "print('B0 =', round(0, 6))\n",
    "print('B1 =', round(B1, 6))\n",
    "\n",
    "print(f'Тогда получем модель вида y = B0 + B1 * x:\\n\\t y = {round(B0, 6)} + {round(B1, 6)} * x')"
   ]
  },
  {
   "cell_type": "markdown",
   "metadata": {},
   "source": [
    "### Задача 2.\n",
    "Посчитать коэффициент линейной регрессии при заработной плате (zp), используя градиентный спуск (без intercept)."
   ]
  },
  {
   "cell_type": "markdown",
   "metadata": {},
   "source": [
    "#### Алгоритм как в лекции"
   ]
  },
  {
   "cell_type": "code",
   "execution_count": 59,
   "metadata": {},
   "outputs": [],
   "source": [
    "def mse_(B1, y = y, x = x, n = 10):\n",
    "    return np.sum((B1 * x - y)**2) / n"
   ]
  },
  {
   "cell_type": "code",
   "execution_count": 60,
   "metadata": {},
   "outputs": [],
   "source": [
    "alpha = 0.000001\n",
    "n = x.size\n",
    "B0 = 0"
   ]
  },
  {
   "cell_type": "code",
   "execution_count": 61,
   "metadata": {},
   "outputs": [
    {
     "name": "stdout",
     "output_type": "stream",
     "text": [
      "i =    0;\t B1 = 0.25952808;\t mse = 493237.7212546963\n",
      "i =    1;\t B1 = 0.4146606509;\t mse = 469503.15593253804\n",
      "i =    2;\t B1 = 0.5655188231;\t mse = 447058.4982813111\n",
      "i =    3;\t B1 = 0.7122203698;\t mse = 425833.6454035351\n",
      "i =    4;\t B1 = 0.8548798195;\t mse = 405762.3042994031\n",
      "i =    5;\t B1 = 0.9936085449;\t mse = 386781.7848094311\n",
      "i =    6;\t B1 = 1.1285148499;\t mse = 368832.8038100976\n",
      "i =    7;\t B1 = 1.2597040546;\t mse = 351859.3000509065\n",
      "i =    8;\t B1 = 1.3872785768;\t mse = 335808.25905454205\n",
      "i =    9;\t B1 = 1.5113380127;\t mse = 320629.547533212\n"
     ]
    }
   ],
   "source": [
    "# Сначала число итераций = 10\n",
    "n_iter = 10\n",
    "\n",
    "B1 = 0.1\n",
    "for i in range(n_iter):\n",
    "    B1 -= alpha * (2 / n) * np.sum((B1 * x - y) * x)\n",
    "    print(f'i = {i:{4}};\\t B1 = {round(B1, 10)};\\t mse = {round(mse_(B1), 12)}')"
   ]
  },
  {
   "cell_type": "code",
   "execution_count": 62,
   "metadata": {},
   "outputs": [
    {
     "name": "stdout",
     "output_type": "stream",
     "text": [
      "i =    0;\t B1 = 0.25952808;\t mse = 493237.7212546963\n",
      "i =  100;\t B1 = 5.5453784225;\t mse = 58151.31823171113\n",
      "i =  200;\t B1 = 5.8687486387;\t mse = 56522.97550129376\n",
      "i =  300;\t B1 = 5.8885313207;\t mse = 56516.88130936019\n",
      "i =  400;\t B1 = 5.8897415574;\t mse = 56516.85850140053\n",
      "i =  500;\t B1 = 5.8898155956;\t mse = 56516.858416040064\n",
      "i =  600;\t B1 = 5.889820125;\t mse = 56516.85841572062\n",
      "i =  700;\t B1 = 5.8898204021;\t mse = 56516.85841571941\n",
      "i =  800;\t B1 = 5.889820419;\t mse = 56516.8584157194\n",
      "i =  900;\t B1 = 5.8898204201;\t mse = 56516.85841571941\n",
      "i = 1000;\t B1 = 5.8898204201;\t mse = 56516.85841571941\n",
      "i = 1100;\t B1 = 5.8898204201;\t mse = 56516.85841571943\n",
      "i = 1200;\t B1 = 5.8898204201;\t mse = 56516.85841571943\n",
      "i = 1300;\t B1 = 5.8898204201;\t mse = 56516.85841571943\n",
      "i = 1400;\t B1 = 5.8898204201;\t mse = 56516.85841571943\n",
      "i = 1500;\t B1 = 5.8898204201;\t mse = 56516.85841571943\n",
      "i = 1600;\t B1 = 5.8898204201;\t mse = 56516.85841571943\n",
      "i = 1700;\t B1 = 5.8898204201;\t mse = 56516.85841571943\n",
      "i = 1800;\t B1 = 5.8898204201;\t mse = 56516.85841571943\n",
      "i = 1900;\t B1 = 5.8898204201;\t mse = 56516.85841571943\n"
     ]
    }
   ],
   "source": [
    "# Увелиливаю число итераций = 2000\n",
    "n_iter = 2000\n",
    "\n",
    "B1 = 0.1\n",
    "for i in range(n_iter):\n",
    "    B1 -= alpha * (2 / n) * np.sum((B1 * x - y) * x)\n",
    "    if (i % 100 == 0):\n",
    "        print(f'i = {i:{4}};\\t B1 = {round(B1, 10)};\\t mse = {round(mse_(B1), 12)}')"
   ]
  },
  {
   "cell_type": "markdown",
   "metadata": {},
   "source": [
    "#### при i > 900 B1 и mse не меняются до 10-11-го знаков, тогда"
   ]
  },
  {
   "cell_type": "code",
   "execution_count": 63,
   "metadata": {},
   "outputs": [
    {
     "name": "stdout",
     "output_type": "stream",
     "text": [
      "B0 = 0\n",
      "B1 = 5.8898204201\n",
      "Тогда получаем модель вида y = B1 * x:\n",
      "\t y = 5.8898204201 * x\n"
     ]
    }
   ],
   "source": [
    "print('B0 =', round(B0, 10))\n",
    "print('B1 =', round(B1, 10))\n",
    "\n",
    "print(f'Тогда получаем модель вида y = B1 * x:\\n\\t y = {round(B1, 10)} * x')"
   ]
  },
  {
   "cell_type": "markdown",
   "metadata": {},
   "source": [
    "### Задача 3.\n",
    "В каких случаях для вычисления доверительных интервалов и проверки статистических гипотез используется таблица значений функции Лапласа, а в каких - таблица критических точек распределения Стьюдента?"
   ]
  },
  {
   "cell_type": "markdown",
   "metadata": {},
   "source": [
    "* Таблица Лапласа используется в случаях, когда известна Сигма генеральной совокупности\n",
    "* Таблица критических значений t-критерия Стьюдента используется, если Сигма генеральной совокупности не известна"
   ]
  },
  {
   "cell_type": "markdown",
   "metadata": {},
   "source": [
    "### Задача 4.*\n",
    "Произвести вычисления как в пункте 2, но с вычислением intercept. Учесть, что изменение коэффициентов должно производиться на каждом шаге одновременно (то есть изменение одного коэффициента не должно влиять на изменение другого во время одной итерации)."
   ]
  },
  {
   "cell_type": "markdown",
   "metadata": {},
   "source": [
    "#### Другая реализация алгоритма градиентного спуска"
   ]
  },
  {
   "cell_type": "code",
   "execution_count": 64,
   "metadata": {},
   "outputs": [],
   "source": [
    "def mse_1(B0, B1, y, x, n):\n",
    "    return np.sum((B0 + B1 * x - y)**2) / n\n",
    "\n",
    "# Функция градиентного спуска;\n",
    "# Параметры: диапазоны значений x, y, длина шага, допустимая погрешность (tolerance)\n",
    "def gradient_descent_usual(x, y, alpha, tolerance):\n",
    "    \n",
    "    # сумма значений x\n",
    "    sx = sum(x)\n",
    "    \n",
    "    # сумма значений y\n",
    "    sy = sum(y)\n",
    "    \n",
    "    # сумма произведения значений x на y\n",
    "    list_xy = []\n",
    "    [list_xy.append(x[i]*y[i]) for i in range(len(x))]\n",
    "    sxy = sum(list_xy)\n",
    "    \n",
    "    # сумма квадратов значений\n",
    "    list_x_sq = []\n",
    "    [list_x_sq.append(x[i]**2) for i in range(len(x))]\n",
    "    sx_sq = sum(list_x_sq)\n",
    "    \n",
    "    # количество значений\n",
    "    num = len(x)\n",
    "    \n",
    "    # начальные значения коэффициентов, определенные псевдослучайным образом\n",
    "    a = float(random.uniform(-0.1, 0.1))\n",
    "    b = float(random.uniform(-0.1, 0.1))\n",
    "    \n",
    "    # создаю массив с ошибками, для старта используем значения 1 и 0\n",
    "    # после завершения спуска стартовые значения удалим\n",
    "    errors = [1, 0]\n",
    "    \n",
    "    # запускаю цикл спуска\n",
    "    # цикл работает до тех пор, пока отклонение последней ошибки суммы квадратов от предыдущей, не будет меньше tolerance\n",
    "    ab = [0, 0]\n",
    "    i = 0\n",
    "    while abs(errors[-1] - errors[-2]) > tolerance:\n",
    "        i += 1\n",
    "        a_step = a - alpha * (num*a + b*sx - sy) / num\n",
    "        b_step = b - alpha * (a*sx + b*sx_sq - sxy) / num\n",
    "        \n",
    "        a = a_step\n",
    "        b = b_step\n",
    "        ab = [a, b]\n",
    "        \n",
    "        mse__ = mse_1(a, b, x, y, num)\n",
    "        \n",
    "        if (i % 50 == 0):\n",
    "            print (f'i = {i:{4}};\\t a = {round(a, 10)};\\t b = {round(b, 10)};\\t mse = {round(mse__, 12)}')\n",
    "            \n",
    "        errors.append(mse__)\n",
    "        \n",
    "    return (ab), (errors[2:])"
   ]
  },
  {
   "cell_type": "code",
   "execution_count": 65,
   "metadata": {},
   "outputs": [
    {
     "name": "stdout",
     "output_type": "stream",
     "text": [
      "i =   50;\t a = 0.1179014593;\t b = 2.9128566018;\t mse = 4076001.898180393\n",
      "i =  100;\t a = 0.1344908553;\t b = 4.4015706712;\t mse = 9654180.870907096\n",
      "i =  150;\t a = 0.1455984394;\t b = 5.1455277728;\t mse = 13329507.374456815\n",
      "i =  200;\t a = 0.153966478;\t b = 5.5172960916;\t mse = 15387837.984693443\n",
      "i =  250;\t a = 0.160965406;\t b = 5.7030648214;\t mse = 16471741.926281553\n",
      "i =  300;\t a = 0.1672800917;\t b = 5.7958811337;\t mse = 17027139.634360623\n",
      "i =  350;\t a = 0.1732527948;\t b = 5.8422449141;\t mse = 17308044.992736913\n",
      "i =  400;\t a = 0.179054558;\t b = 5.8653942608;\t mse = 17449183.695540853\n",
      "i =  450;\t a = 0.184770859;\t b = 5.8769423041;\t mse = 17519827.943530403\n",
      "i =  500;\t a = 0.190444415;\t b = 5.8826926509;\t mse = 17555081.509633116\n",
      "i =  550;\t a = 0.1960965736;\t b = 5.8855456266;\t mse = 17572608.49189403\n",
      "i =  600;\t a = 0.2017380033;\t b = 5.8869506549;\t mse = 17581266.67110706\n",
      "i =  650;\t a = 0.2073740356;\t b = 5.8876320786;\t mse = 17585490.21837557\n",
      "i =  700;\t a = 0.2130073347;\t b = 5.8879518846;\t mse = 17587496.965536427\n",
      "i =  750;\t a = 0.2186392323;\t b = 5.8880909741;\t mse = 17588395.72876357\n",
      "i =  800;\t a = 0.2242703937;\t b = 5.8881397516;\t mse = 17588740.748243995\n"
     ]
    }
   ],
   "source": [
    "alpha     = 0.000001\n",
    "tolerance = 0.1\n",
    "\n",
    "list_param_gradient_descence = gradient_descent_usual(x, y, alpha, tolerance)"
   ]
  },
  {
   "cell_type": "code",
   "execution_count": 66,
   "metadata": {},
   "outputs": [
    {
     "name": "stdout",
     "output_type": "stream",
     "text": [
      "Значения коэффициентов B0 и B1:\n",
      "\tB0 = 0.229113\n",
      "\tB1 = 5.888145\n",
      "\n",
      "Количество итераций в градиентном спуске:\n",
      "\ti = 843\n"
     ]
    }
   ],
   "source": [
    "print('Значения коэффициентов B0 и B1:')\n",
    "print('\\tB0 =', round(list_param_gradient_descence[0][0], 6))\n",
    "print('\\tB1 =', round(list_param_gradient_descence[0][1], 6))\n",
    "print()\n",
    "\n",
    "print('Количество итераций в градиентном спуске:')\n",
    "print(f'\\ti = {len(list_param_gradient_descence[1])}')"
   ]
  },
  {
   "cell_type": "markdown",
   "metadata": {},
   "source": [
    "#### Что-то не так... коэффициенты и графики разные"
   ]
  },
  {
   "cell_type": "code",
   "execution_count": 67,
   "metadata": {},
   "outputs": [
    {
     "data": {
      "image/png": "[encoded data removed]",
      "text/plain": [
       "<Figure size 432x288 with 1 Axes>"
      ]
     },
     "metadata": {
      "needs_background": "light"
     },
     "output_type": "display_data"
    }
   ],
   "source": [
    "B0 = list_param_gradient_descence[0][0]\n",
    "B1 = list_param_gradient_descence[0][1]\n",
    "plt.scatter(x, y)\n",
    "plt.plot(x, 444.17 + 2.62 * x)\n",
    "plt.plot(x, B0 + B1 * x)\n",
    "plt.xlabel('x')\n",
    "plt.ylabel('y')\n",
    "plt.show()"
   ]
  },
  {
   "cell_type": "code",
   "execution_count": null,
   "metadata": {},
   "outputs": [],
   "source": []
  }
 ],
 "metadata": {
  "kernelspec": {
   "display_name": "Python 3",
   "language": "python",
   "name": "python3"
  },
  "language_info": {
   "codemirror_mode": {
    "name": "ipython",
    "version": 3
   },
   "file_extension": ".py",
   "mimetype": "text/x-python",
   "name": "python",
   "nbconvert_exporter": "python",
   "pygments_lexer": "ipython3",
   "version": "3.7.6"
  }
 },
 "nbformat": 4,
 "nbformat_minor": 4
}
